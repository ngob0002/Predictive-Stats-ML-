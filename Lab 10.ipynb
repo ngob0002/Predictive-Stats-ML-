{
 "cells": [
  {
   "cell_type": "code",
   "id": "f167b2148774d705",
   "metadata": {
    "ExecuteTime": {
     "end_time": "2024-12-02T04:18:59.181519Z",
     "start_time": "2024-12-02T04:18:57.357415Z"
    }
   },
   "source": [
    "!pip install pulp\n",
    "from pulp import LpMaximize, LpProblem, LpVariable, lpSum, LpStatus"
   ],
   "outputs": [
    {
     "name": "stdout",
     "output_type": "stream",
     "text": [
      "Requirement already satisfied: pulp in c:\\users\\user\\pycharmprojects\\pythonproject1\\.venv\\lib\\site-packages (2.9.0)\n"
     ]
    },
    {
     "name": "stderr",
     "output_type": "stream",
     "text": [
      "\n",
      "[notice] A new release of pip is available: 24.2 -> 24.3.1\n",
      "[notice] To update, run: python.exe -m pip install --upgrade pip\n"
     ]
    }
   ],
   "execution_count": 2
  },
  {
   "metadata": {
    "collapsed": true,
    "ExecuteTime": {
     "end_time": "2024-12-02T04:19:08.304753Z",
     "start_time": "2024-12-02T04:19:08.285076Z"
    }
   },
   "cell_type": "code",
   "source": [
    "\n",
    "# Define the problem\n",
    "problem = LpProblem(\"Maximize_Profit\", LpMaximize)"
   ],
   "id": "initial_id",
   "outputs": [],
   "execution_count": 3
  },
  {
   "metadata": {
    "ExecuteTime": {
     "end_time": "2024-12-02T04:19:15.957592Z",
     "start_time": "2024-12-02T04:19:15.946879Z"
    }
   },
   "cell_type": "code",
   "source": [
    "# Decision variables\n",
    "x = LpVariable('x', lowBound=0)\n",
    "y = LpVariable('y', lowBound=0)\n",
    "z = LpVariable('z', lowBound=0)"
   ],
   "id": "247529cc97a877c7",
   "outputs": [],
   "execution_count": 4
  },
  {
   "metadata": {
    "ExecuteTime": {
     "end_time": "2024-12-02T04:19:20.961310Z",
     "start_time": "2024-12-02T04:19:20.950267Z"
    }
   },
   "cell_type": "code",
   "source": [
    "# Objective function\n",
    "problem += 20 * x + 40 * y + 30 * z, \"Total Profit\""
   ],
   "id": "dee3db34000762ec",
   "outputs": [],
   "execution_count": 5
  },
  {
   "metadata": {
    "ExecuteTime": {
     "end_time": "2024-12-02T04:19:24.311694Z",
     "start_time": "2024-12-02T04:19:24.295885Z"
    }
   },
   "cell_type": "code",
   "source": [
    "# Constraints\n",
    "problem += 4 * x + 5 * y + 7 * z <= 200, \"Material_1_Constraint\"\n",
    "problem += 2 * x + 3 * y + 8 * z <= 250, \"Material_2_Constraint\""
   ],
   "id": "8a1e43b927fa5d96",
   "outputs": [],
   "execution_count": 6
  },
  {
   "metadata": {
    "ExecuteTime": {
     "end_time": "2024-12-02T04:19:52.279340Z",
     "start_time": "2024-12-02T04:19:52.047838Z"
    }
   },
   "cell_type": "code",
   "source": [
    "# Solve the problem\n",
    "status = problem.solve()"
   ],
   "id": "be5982f2d6e99fe0",
   "outputs": [],
   "execution_count": 8
  },
  {
   "metadata": {
    "ExecuteTime": {
     "end_time": "2024-12-02T04:30:13.059033Z",
     "start_time": "2024-12-02T04:30:13.049809Z"
    }
   },
   "cell_type": "code",
   "source": [
    "# Print results\n",
    "print(f\"Status: {LpStatus[status]}\")\n",
    "print(f\"Optimal value of x: {x.varValue}\")\n",
    "print(f\"Optimal value of y: {y.varValue}\")\n",
    "print(f\"Optimal value of z: {z.varValue}\")\n",
    "print(f\"Maximum Profit: {problem.objective.value()}\")"
   ],
   "id": "9f18538479955f61",
   "outputs": [
    {
     "name": "stdout",
     "output_type": "stream",
     "text": [
      "Status: Optimal\n",
      "Optimal value of x: 0.0\n",
      "Optimal value of y: 40.0\n",
      "Optimal value of z: 0.0\n",
      "Maximum Profit: 1600.0\n"
     ]
    }
   ],
   "execution_count": 11
  }
 ],
 "metadata": {
  "kernelspec": {
   "display_name": "Python 3",
   "language": "python",
   "name": "python3"
  },
  "language_info": {
   "codemirror_mode": {
    "name": "ipython",
    "version": 2
   },
   "file_extension": ".py",
   "mimetype": "text/x-python",
   "name": "python",
   "nbconvert_exporter": "python",
   "pygments_lexer": "ipython2",
   "version": "2.7.6"
  }
 },
 "nbformat": 4,
 "nbformat_minor": 5
}
